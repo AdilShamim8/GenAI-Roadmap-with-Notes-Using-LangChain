{
 "cells": [
  {
   "cell_type": "markdown",
   "id": "1914a61c-da7b-4373-8dac-5ed486c5f1ce",
   "metadata": {},
   "source": [
    "### **What is LangChain**\n",
    "\n",
    "\n",
    "LangChain is an open source framework that helps in building LLM based applications. It provides modular components and end-to-end tools that help developers build complex AI applications, such as chatbots, question-answering systems, retrieval-augmented generation (RAG), autonomous agents, and more.\n",
    "\n",
    "1. Supports all the major LLMs  \n",
    "2. Simplifies developing LLM based applications  \n",
    "3. Integrations available for all major tools  \n",
    "4. Open source / Free / Actively developed  \n",
    "5. Supports all major GenAI use cases  "
   ]
  },
  {
   "cell_type": "markdown",
   "id": "d49c6b7a-4865-4aa0-9d24-aaf39abb499e",
   "metadata": {},
   "source": [
    "### **LangChain Roadmap**\n",
    "\n",
    "#### 1. Fundamentals\n",
    "a. What is LangChain  \n",
    "b. LangChain Components  \n",
    "c. Models  \n",
    "d. Prompts  \n",
    "e. Parsing Output  \n",
    "f. Runnables & LCEL  \n",
    "g. Chains  \n",
    "h. Memory  \n",
    "\n",
    "#### 2. RAG\n",
    "a. Document Loaders  \n",
    "b. Text Splitters  \n",
    "c. Embeddings  \n",
    "d. Vector Stores  \n",
    "e. Retrievers  \n",
    "f. Building a RAG application  \n",
    "\n",
    "#### 3. Agents\n",
    "a. Tools & Toolkits  \n",
    "b. Tool Calling  \n",
    "c. Building an AI Agent  "
   ]
  }
 ],
 "metadata": {
  "kernelspec": {
   "display_name": "Python 3 (ipykernel)",
   "language": "python",
   "name": "python3"
  },
  "language_info": {
   "codemirror_mode": {
    "name": "ipython",
    "version": 3
   },
   "file_extension": ".py",
   "mimetype": "text/x-python",
   "name": "python",
   "nbconvert_exporter": "python",
   "pygments_lexer": "ipython3",
   "version": "3.10.10"
  }
 },
 "nbformat": 4,
 "nbformat_minor": 5
}
